{
 "cells": [
  {
   "cell_type": "code",
   "execution_count": 7,
   "id": "589f4751",
   "metadata": {},
   "outputs": [],
   "source": [
    "import pandas\n",
    "import json"
   ]
  },
  {
   "cell_type": "code",
   "execution_count": 5,
   "id": "ebfcbf9e",
   "metadata": {},
   "outputs": [],
   "source": [
    "category = 'General'"
   ]
  },
  {
   "cell_type": "code",
   "execution_count": 13,
   "id": "be600496",
   "metadata": {},
   "outputs": [],
   "source": [
    "with open('categories.json', 'r') as file:\n",
    "    data = json.load(file)\n",
    "\n",
    "    items = list(filter(lambda x: x['title'] == category, data))\n",
    "    df = pandas.DataFrame(items[0]['subcategories'])"
   ]
  },
  {
   "cell_type": "code",
   "execution_count": 15,
   "id": "d0d7711b",
   "metadata": {},
   "outputs": [
    {
     "data": {
      "text/plain": [
       "['Vlogs',\n",
       " 'Tutorials',\n",
       " 'Reviews',\n",
       " 'Unboxing',\n",
       " 'How-To',\n",
       " 'Challenges',\n",
       " 'Q&A',\n",
       " 'Behind the Scenes',\n",
       " 'Comedy',\n",
       " 'Dating',\n",
       " 'Cooking',\n",
       " 'Game',\n",
       " 'General - Other']"
      ]
     },
     "execution_count": 15,
     "metadata": {},
     "output_type": "execute_result"
    }
   ],
   "source": [
    "df.title.tolist()"
   ]
  }
 ],
 "metadata": {
  "kernelspec": {
   "display_name": "Python 3",
   "language": "python",
   "name": "python3"
  },
  "language_info": {
   "codemirror_mode": {
    "name": "ipython",
    "version": 3
   },
   "file_extension": ".py",
   "mimetype": "text/x-python",
   "name": "python",
   "nbconvert_exporter": "python",
   "pygments_lexer": "ipython3",
   "version": "3.13.1"
  }
 },
 "nbformat": 4,
 "nbformat_minor": 5
}
